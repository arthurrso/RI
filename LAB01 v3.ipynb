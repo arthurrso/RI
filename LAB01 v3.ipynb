{
 "cells": [
  {
   "cell_type": "code",
   "execution_count": 173,
   "metadata": {
    "collapsed": true
   },
   "outputs": [],
   "source": [
    "#Imports necessarios\n",
    "import pandas as pd\n",
    "from collections import defaultdict"
   ]
  },
  {
   "cell_type": "code",
   "execution_count": 206,
   "metadata": {
    "collapsed": true
   },
   "outputs": [],
   "source": [
    "\n",
    "#Recuperando o documento\n",
    "doc = pd.read_csv('noticias_estadao.csv')    \n",
    "\n",
    "#Definicao das funcoes\n",
    "#Montar dicionario\n",
    "def montaDicionario(coluna):\n",
    "    dicionario = defaultdict(set)\n",
    "    for x in range(0, len(coluna) -1):\n",
    "        splitted = coluna[x].split(' ')\n",
    "        for z in splitted: \n",
    "            dicionario[z.lower()].add(doc.idNoticia[x])\n",
    "    return dicionario\n",
    "\n",
    "#Funcao And\n",
    "def funcaoAnd(termoA, termoB, dicionarioFinal):\n",
    "    termoA = termoA.lower()\n",
    "    termoB = termoB.lower()\n",
    "    valuesA = dicionarioFinal[termoA]\n",
    "    valuesB = dicionarioFinal[termoB]\n",
    "    retorno = set({})\n",
    "    for x in valuesA:\n",
    "        if(x in valuesB):\n",
    "            retorno.add(x)\n",
    "    return retorno\n",
    "    \n",
    "#Funcao or - funciona para mais de 2 termos\n",
    "def funcaoOr(termos, dicionarioFinal):\n",
    "    retorno = []\n",
    "    #transforma todos os termos em minusculo para uma busca mais precisa\n",
    "    lowerList = [x.lower() for x in termos]\n",
    "    for termo in lowerList:\n",
    "        for y in dicionarioFinal[termo]:\n",
    "            if y not in retorno:\n",
    "                retorno.append(y)\n",
    "    return retorno"
   ]
  },
  {
   "cell_type": "code",
   "execution_count": 207,
   "metadata": {
    "collapsed": true
   },
   "outputs": [],
   "source": [
    "#Criacao do dicionario com chaves sendo as palavras e valores os ids das noticais\n",
    "texto = doc.titulo + \" \" + doc.conteudo\n",
    "dicionarioPalavras = montaDicionario(texto)\n"
   ]
  },
  {
   "cell_type": "code",
   "execution_count": 211,
   "metadata": {
    "collapsed": true
   },
   "outputs": [],
   "source": [
    "#Evidencia do retorno\n",
    "assert len(funcaoOr(['debate', 'presidencial'], dicionarioPalavras)) == 1770\n",
    "assert len(funcaoAnd('debate', 'presidencial', dicionarioPalavras)) == 201\n",
    "assert len(funcaoOr(['presidenciáveis', 'corruptos'], dicionarioPalavras)) == 164\n",
    "assert len(funcaoAnd('presidenciáveis', 'corruptos', dicionarioPalavras)) == 0\n",
    "assert len(funcaoOr(['belo', 'horizonte'], dicionarioPalavras)) == 331\n",
    "assert len(funcaoAnd('Belo', 'Horizonte', dicionarioPalavras)) == 242"
   ]
  },
  {
   "cell_type": "markdown",
   "metadata": {},
   "source": []
  },
  {
   "cell_type": "code",
   "execution_count": null,
   "metadata": {
    "collapsed": true
   },
   "outputs": [],
   "source": []
  }
 ],
 "metadata": {
  "kernelspec": {
   "display_name": "Python 2",
   "language": "python",
   "name": "python2"
  },
  "language_info": {
   "codemirror_mode": {
    "name": "ipython",
    "version": 2
   },
   "file_extension": ".py",
   "mimetype": "text/x-python",
   "name": "python",
   "nbconvert_exporter": "python",
   "pygments_lexer": "ipython2",
   "version": "2.7.14"
  }
 },
 "nbformat": 4,
 "nbformat_minor": 2
}
