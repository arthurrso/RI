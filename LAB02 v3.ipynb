{
 "cells": [
  {
   "cell_type": "code",
   "execution_count": 173,
   "metadata": {},
   "outputs": [],
   "source": [
    "#Imports necessarios\n",
    "import pandas as pd\n",
    "from collections import defaultdict"
   ]
  },
  {
   "cell_type": "code",
   "execution_count": 206,
   "metadata": {},
   "outputs": [],
   "source": [
    "\n",
    "#Recuperando o documento\n",
    "doc = pd.read_csv('noticias_estadao.csv')    \n",
    "\n",
    "#Definicao das funcoes\n",
    "#Montar dicionario\n",
    "def montaDicionario(coluna):\n",
    "    dicionario = defaultdict(set)\n",
    "    for x in range(0, len(coluna) -1):\n",
    "        splitted = coluna[x].split(' ')\n",
    "        for z in splitted: \n",
    "            dicionario[z.lower()].add(doc.idNoticia[x])\n",
    "    return dicionario\n",
    "\n",
    "#Funcao And\n",
    "def funcaoAnd(termoA, termoB, dicionarioFinal):\n",
    "    termoA = termoA.lower()\n",
    "    termoB = termoB.lower()\n",
    "    valuesA = dicionarioFinal[termoA]\n",
    "    valuesB = dicionarioFinal[termoB]\n",
    "    retorno = set({})\n",
    "    for x in valuesA:\n",
    "        if(x in valuesB):\n",
    "            retorno.add(x)\n",
    "    return retorno\n",
    "    \n",
    "#Funcao or - funciona para mais de 2 termos\n",
    "def funcaoOr(termos, dicionarioFinal):\n",
    "    retorno = []\n",
    "    #transforma todos os termos em minusculo para uma busca mais precisa\n",
    "    lowerList = [x.lower() for x in termos]\n",
    "    for termo in lowerList:\n",
    "        for y in dicionarioFinal[termo]:\n",
    "            if y not in retorno:\n",
    "                retorno.append(y)\n",
    "    return retorno"
   ]
  },
  {
   "cell_type": "code",
   "execution_count": null,
   "metadata": {},
   "outputs": [],
   "source": [
    "#Criacao do dicionario com chaves sendo as palavras e valores os ids das noticais\n",
    "texto = doc.titulo + \" \" + doc.conteudo\n",
    "dicionarioPalavras = montaDicionario(texto)\n"
   ]
  },
  {
   "cell_type": "code",
   "execution_count": 205,
   "metadata": {},
   "outputs": [
    {
     "ename": "AssertionError",
     "evalue": "",
     "output_type": "error",
     "traceback": [
      "\u001b[1;31m---------------------------------------------------------------------------\u001b[0m",
      "\u001b[1;31mAssertionError\u001b[0m                            Traceback (most recent call last)",
      "\u001b[1;32m<ipython-input-205-36d6fce03af5>\u001b[0m in \u001b[0;36m<module>\u001b[1;34m()\u001b[0m\n\u001b[0;32m      6\u001b[0m \u001b[1;32massert\u001b[0m \u001b[0mlen\u001b[0m\u001b[1;33m(\u001b[0m\u001b[0mfuncaoOr\u001b[0m\u001b[1;33m(\u001b[0m\u001b[1;33m[\u001b[0m\u001b[1;34m'belo'\u001b[0m\u001b[1;33m,\u001b[0m \u001b[1;34m'horizonte'\u001b[0m\u001b[1;33m]\u001b[0m\u001b[1;33m,\u001b[0m \u001b[0mdicionarioPalavras\u001b[0m\u001b[1;33m)\u001b[0m\u001b[1;33m)\u001b[0m \u001b[1;33m==\u001b[0m \u001b[1;36m331\u001b[0m\u001b[1;33m\u001b[0m\u001b[0m\n\u001b[0;32m      7\u001b[0m \u001b[1;33m\u001b[0m\u001b[0m\n\u001b[1;32m----> 8\u001b[1;33m \u001b[1;32massert\u001b[0m \u001b[0mlen\u001b[0m\u001b[1;33m(\u001b[0m\u001b[0mfuncaoAnd\u001b[0m\u001b[1;33m(\u001b[0m\u001b[1;34m'Belo'\u001b[0m\u001b[1;33m,\u001b[0m \u001b[1;34m'Horizonte'\u001b[0m\u001b[1;33m,\u001b[0m \u001b[0mdicionarioPalavras\u001b[0m\u001b[1;33m)\u001b[0m\u001b[1;33m)\u001b[0m \u001b[1;33m==\u001b[0m \u001b[1;36m242\u001b[0m\u001b[1;33m\u001b[0m\u001b[0m\n\u001b[0m",
      "\u001b[1;31mAssertionError\u001b[0m: "
     ]
    }
   ],
   "source": [
    "#Evidencia do retorno\n",
    "assert len(funcaoOr(['debate', 'presidencial'], dicionarioPalavras)) == 1770\n",
    "assert len(funcaoAnd('debate', 'presidencial', dicionarioPalavras)) == 201\n",
    "assert len(funcaoOr(['presidenciáveis', 'corruptos'], dicionarioPalavras)) == 164\n",
    "assert len(funcaoAnd('presidenciáveis', 'corruptos', dicionarioPalavras)) == 0\n",
    "assert len(funcaoOr(['belo', 'horizonte'], dicionarioPalavras)) == 331\n",
    "\n",
    "assert len(funcaoAnd('Belo', 'Horizonte', dicionarioPalavras)) == 242"
   ]
  },
  {
   "cell_type": "code",
   "execution_count": 204,
   "metadata": {},
   "outputs": [
    {
     "name": "stdout",
     "output_type": "stream",
     "text": [
      "Belo\n",
      "set([])\n",
      "belo\n",
      "set([1280, 4100, 1033, 3069, 3596, 2061, 2063, 2064, 2065, 4115, 3604, 1046, 3609, 2074, 6174, 4357, 5665, 1883, 4646, 3623, 4649, 3626, 5133, 4076, 6702, 3119, 48, 2098, 2483, 2101, 3593, 3129, 1598, 3135, 1088, 3680, 3138, 1603, 1605, 3142, 3143, 5706, 75, 6733, 13, 1230, 4177, 5205, 6231, 5208, 3700, 3674, 4589, 6240, 2145, 3170, 4710, 3413, 1133, 3183, 2672, 2673, 3186, 4723, 3188, 1142, 4116, 634, 5055, 4, 3606, 4230, 1388, 6794, 2700, 3214, 1389, 1880, 4241, 7619, 4245, 2710, 624, 3224, 4251, 1180, 4765, 1183, 4720, 1186, 4771, 2213, 6160, 4209, 6312, 2219, 4780, 3698, 4893, 3248, 4273, 4787, 4234, 3160, 2164, 5919, 4797, 3262, 1909, 5975, 2018, 1734, 3445, 1406, 206, 6354, 211, 1081, 4184, 1242, 4559, 5242, 5514, 2853, 1762, 7396, 7463, 5702, 2002, 2798, 1405, 1264, 6897, 4850, 6316, 3316, 2805, 1270, 3326, 4565, 5541, 2944, 1797, 1798, 4361, 3852, 3860, 4375, 7451, 7453, 5407, 5410, 1315, 7460, 6079, 1318, 1329, 5417, 2951, 4398, 5425, 1331, 2873, 2362, 2363, 2365, 1343, 1858, 5590, 1861, 2909, 4937, 3915, 332, 2381, 1872, 1362, 3923, 4437, 3926, 1367, 5976, 5977, 2395, 5946, 4958, 7519, 1823, 1892, 1381, 4454, 1386, 4972, 4973, 6512, 7040, 1086, 374, 1506, 7032, 7545, 1087, 3964, 1917, 7038, 7552, 7554, 7043, 2950, 6535, 7048, 6124, 5002, 6028, 1090, 7566, 4333, 1424, 7569, 4498, 3990, 1431, 1434, 3998, 4957, 1094, 1020, 6064, 5043, 2127, 5559, 6900, 6587, 74, 2494, 6591, 4294, 3522, 4939, 5574, 3528, 2095, 3531, 3534, 4941, 6098, 6099, 2004, 7125, 7126, 3031, 7128, 2011, 4572, 1445, 5088, 5456, 5090, 1507, 1508, 4582, 4604, 5100, 5101, 2031, 1013, 5111, 2040, 7161, 7162, 6139, 2044, 4605, 1877])\n"
     ]
    }
   ],
   "source": [
    "termoA = 'Belo'\n",
    "print(termoA)\n",
    "print(dicionarioPalavras[termoA])\n",
    "termoA = termoA.lower()\n",
    "print(termoA)\n",
    "print(dicionarioPalavras[termoA])"
   ]
  }
 ],
 "metadata": {
  "kernelspec": {
   "display_name": "Python 2",
   "language": "python",
   "name": "python2"
  },
  "language_info": {
   "codemirror_mode": {
    "name": "ipython",
    "version": 2
   },
   "file_extension": ".py",
   "mimetype": "text/x-python",
   "name": "python",
   "nbconvert_exporter": "python",
   "pygments_lexer": "ipython2",
   "version": "2.7.14"
  }
 },
 "nbformat": 4,
 "nbformat_minor": 2
}
