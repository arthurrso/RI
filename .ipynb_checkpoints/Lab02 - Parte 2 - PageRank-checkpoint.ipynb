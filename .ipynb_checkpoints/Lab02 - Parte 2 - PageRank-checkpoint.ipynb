{
 "cells": [
  {
   "cell_type": "markdown",
   "metadata": {},
   "source": [
    "## Lab 02 - Parte 2 - Arthur Roberto Saraiva de Oliveira"
   ]
  },
  {
   "cell_type": "markdown",
   "metadata": {},
   "source": [
    "### Implementação do PageRank"
   ]
  },
  {
   "cell_type": "code",
   "execution_count": 6,
   "metadata": {},
   "outputs": [],
   "source": [
    "#imports necessários\n",
    "import numpy as np\n",
    "import pandas as p"
   ]
  },
  {
   "cell_type": "code",
   "execution_count": 7,
   "metadata": {},
   "outputs": [],
   "source": [
    "#constantes auxiliares\n",
    "d_value = 0.15\n",
    "doc = 'soc-sign-bitcoinotc.csv'\n",
    "df = p.read_csv(doc, encoding = 'utf-8')\n",
    "df = df.replace(np.NAN, \"\")"
   ]
  },
  {
   "cell_type": "markdown",
   "metadata": {},
   "source": [
    "#### Matriz de Transição"
   ]
  },
  {
   "cell_type": "code",
   "execution_count": 14,
   "metadata": {},
   "outputs": [],
   "source": [
    "def generateTransitionMatrix(x, y, node):\n",
    "    lenNode = len(node)\n",
    "    #Return a matrix of given shape and type, filled with zeros\n",
    "    m = np.zeros(shape = (lenNode, lenNode))\n",
    "    \n",
    "    nodeDict = {}\n",
    "    for i in node:\n",
    "        nodeDict[I] = []\n",
    "        \n",
    "    for j in range(len(x)):\n",
    "        source, target = x[j], y[j]\n",
    "        nodeDict[source].append(target)\n",
    "   \n",
    "    for k in range(lenNode):\n",
    "        source = node[k]\n",
    "        for l in range(lenNode):\n",
    "            target = node[l]\n",
    "            if target in nodeDict[source]: \n",
    "                m[l][k] = 1.0/len(nodeDict[source])\n",
    "    \n",
    "    return np.matrix(m)"
   ]
  },
  {
   "cell_type": "markdown",
   "metadata": {},
   "source": [
    "#### Método do PageRank"
   ]
  },
  {
   "cell_type": "code",
   "execution_count": 15,
   "metadata": {},
   "outputs": [],
   "source": [
    "def pagerank(v):\n",
    "    global count\n",
    "    if sum(abs(m*v-v)) > 0.001:\n",
    "        count += 1\n",
    "        print m*v\n",
    "        return pagerank(m*v)\n",
    "    else:\n",
    "        count +=1\n",
    "        return m*v"
   ]
  },
  {
   "cell_type": "code",
   "execution_count": null,
   "metadata": {},
   "outputs": [],
   "source": [
    "node"
   ]
  },
  {
   "cell_type": "code",
   "execution_count": null,
   "metadata": {},
   "outputs": [],
   "source": []
  },
  {
   "cell_type": "code",
   "execution_count": null,
   "metadata": {},
   "outputs": [],
   "source": []
  },
  {
   "cell_type": "code",
   "execution_count": null,
   "metadata": {},
   "outputs": [],
   "source": []
  },
  {
   "cell_type": "code",
   "execution_count": null,
   "metadata": {},
   "outputs": [],
   "source": []
  },
  {
   "cell_type": "code",
   "execution_count": null,
   "metadata": {},
   "outputs": [],
   "source": []
  }
 ],
 "metadata": {
  "kernelspec": {
   "display_name": "Python 2",
   "language": "python",
   "name": "python2"
  },
  "language_info": {
   "codemirror_mode": {
    "name": "ipython",
    "version": 2
   },
   "file_extension": ".py",
   "mimetype": "text/x-python",
   "name": "python",
   "nbconvert_exporter": "python",
   "pygments_lexer": "ipython2",
   "version": "2.7.14"
  }
 },
 "nbformat": 4,
 "nbformat_minor": 2
}
