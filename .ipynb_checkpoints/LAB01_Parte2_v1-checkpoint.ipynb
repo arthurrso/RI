{
 "cells": [
  {
   "cell_type": "markdown",
   "metadata": {},
   "source": [
    "Reconstruir o índice considerando o conjunto estendido de notícias;\n",
    "Refinar o índice invertido de forma a incluir o IDF (inverse document frequency) de cada termo do dicionário e o TF (term frequency) de cada termo em cada documento da lista de postings respectiva;\n",
    "Instanciar o modelo vetorial com:\n",
    "    representação binária;\n",
    "    TF;\n",
    "    TF-IDF;\n",
    "    BM25* (não usaremos Okapi já que os documentos não tem variação de tamanho).\n",
    "Execute os algoritmos separadamente em consultas específicas (veja abaixo) e retorne os top-5 documentos mais similares à cada consulta;\n",
    "Use a função de MAP que vamos prover junto ao ground truth que construímos para avaliar as diferentes instanciações do modelo vetorial que você construiu;\n",
    "\n",
    " As consultas são as seguintes:\n",
    "\n",
    "    segundo turno;\n",
    "    lava jato;\n",
    "    projeto de lei;\n",
    "    compra de voto.\n",
    "    ministério público.\n",
    "\n",
    "* Faça uma busca pelo k que retorna os melhores resultados. "
   ]
  },
  {
   "cell_type": "code",
   "execution_count": 6,
   "metadata": {},
   "outputs": [],
   "source": [
    "#Imports necessarios\n",
    "import pandas as pd\n",
    "import numpy as np\n",
    "from collections import defaultdict\n",
    "\n",
    "#Recuperando o documento\n",
    "doc = pd.read_csv('estadao_noticias_eleicao.csv')    \n",
    "doc = doc.replace(np.NaN, '')\n",
    "\n",
    "#Definicao das funcoes\n",
    "#Montar dicionario\n",
    "def montaDicionario(coluna):\n",
    "    dicionario = defaultdict(set)\n",
    "    for x in range(0, len(coluna) -1):\n",
    "        splitted = str(coluna[x]).split(' ')\n",
    "        for z in splitted: \n",
    "            dicionario[z.lower()].add(doc.idNoticia[x])\n",
    "    return dicionario\n",
    "\n",
    "#Funcao And\n",
    "def funcaoAnd(termoA, termoB, dicionarioFinal):\n",
    "    termoA = termoA.lower()\n",
    "    termoB = termoB.lower()\n",
    "    valuesA = dicionarioFinal[termoA]\n",
    "    valuesB = dicionarioFinal[termoB]\n",
    "    retorno = set({})\n",
    "    for x in valuesA:\n",
    "        if(x in valuesB):\n",
    "            retorno.add(x)\n",
    "    return retorno\n",
    "\n",
    "#Criacao do dicionario com chaves sendo as palavras e valores os ids das noticias\n",
    "texto = doc.titulo + \" \" + doc.conteudo\n",
    "dicionarioPalavras = montaDicionario(texto)"
   ]
  },
  {
   "cell_type": "markdown",
   "metadata": {},
   "source": [
    "Do melhor ao pior, como se saíram os modelos? Justifique sua resposta."
   ]
  },
  {
   "cell_type": "code",
   "execution_count": 7,
   "metadata": {},
   "outputs": [
    {
     "name": "stderr",
     "output_type": "stream",
     "text": [
      "IOPub data rate exceeded.\n",
      "The notebook server will temporarily stop sending output\n",
      "to the client in order to avoid crashing it.\n",
      "To change this limit, set the config variable\n",
      "`--NotebookApp.iopub_data_rate_limit`.\n"
     ]
    }
   ],
   "source": [
    "print (dicionarioPalavras)"
   ]
  },
  {
   "cell_type": "code",
   "execution_count": 3,
   "metadata": {},
   "outputs": [
    {
     "name": "stdout",
     "output_type": "stream",
     "text": [
      "0       PT espera 30 mil pessoas em festa na Esplanada...\n",
      "1       Alckmin toma posse de olho no Planalto Reeleit...\n",
      "2       Seis obstáculos e desafios do segundo mandato ...\n",
      "3                                                     NaN\n",
      "4                                                     NaN\n",
      "5                                                     NaN\n",
      "6       Veja os desafios dos governadores que assumem ...\n",
      "7       PT impulsiona cerimônia de posse da Dilma nas ...\n",
      "8                                                     NaN\n",
      "9       Dilma veta projeto de Suplicy que cria linha o...\n",
      "10      Dilma anuncia 14 ministros e conclui reforma m...\n",
      "11      Dilma anuncia últimos 14 ministros e fecha equ...\n",
      "12      Ex-governador critica Alckmin pela falta de ág...\n",
      "13      Veja lista completa de ministros anunciados po...\n",
      "14      'PT não pode se queixar', afirma futuro articu...\n",
      "15      Planalto confirma Juca Ferreira no Ministério ...\n",
      "16      Pimentel divulga nomes do secretariado do gove...\n",
      "17      Com recusa de Celso Amorim, Figueiredo deve fi...\n",
      "18      Ala do PT pede saída de Ideli de ministério O ...\n",
      "19      Cid Gomes anunciará novo piso para professores...\n",
      "20      Além de ministério, PRB ganha pastas estaduais...\n",
      "21      Ministro não precisa ser expert, afirma prefei...\n",
      "22      Dilma deixa Lula e ala majoritária do PT de fo...\n",
      "23                                                    NaN\n",
      "24      Lei de Roseana dá à ex-governadora direito a n...\n",
      "25      Alckmin chama presidente do PSDB paulista para...\n",
      "26      E-mails indicam ‘atuação direta’ de cartel no ...\n",
      "27      Menor prestígio e verba faz diplomatas buscare...\n",
      "28      'Obras de Alckmin terão significado para todo ...\n",
      "29      Cúpula da política externa proíbe uso de Faceb...\n",
      "                              ...                        \n",
      "8686    Dados ajudam a  quebrar mitos da  política nac...\n",
      "8687    Eleição municipal e pequenas cidades induzem f...\n",
      "8688    11% dos eleitores do País são filiados a legen...\n",
      "8689    Adesão cresce em regiões de maior escolaridade...\n",
      "8690    'Se sentença seguiu as regras, é difícil haver...\n",
      "8691    Abstinência programada   O governo começa a te...\n",
      "8692    Siglas descumprem cota feminina em propaganda ...\n",
      "8693    Bancada de mulheres no Brasil é inferior à méd...\n",
      "8694    Em prisão domiciliar, Genoino muda endereço pe...\n",
      "8695    Câmara não cumpre promessa de economia de R$ 2...\n",
      "8696    'Aliança com tucanos é a nova política', diz C...\n",
      "8697    Com base oscilante, Dilma usa menos PEC   A pr...\n",
      "8698    Aos 139 anos, 'Estado' preserva defesa da libe...\n",
      "8699    Dilma aprovou menos emendas que Lula e FHC A p...\n",
      "8700    Câmara deixa de cumprir promessa de economia d...\n",
      "8701    PSB prepara anúncio de Marina como vice de Cam...\n",
      "8702    Campos empossa novos secretários em clima de c...\n",
      "8703    Alckmin volta a dizer que espera 'investigação...\n",
      "8704    Governo atua para adiar leis sensíveis a sindi...\n",
      "8705    Calendário curto trava pauta do Congresso   O ...\n",
      "8706    Presidenciáveis privilegiam o Sudeste no cumpr...\n",
      "8707    Executivo da Siemens teve ordem para destruir ...\n",
      "8708    Governo tenta barrar projeto sobre greve de se...\n",
      "8709    Falta de acordo deve se intensificar no Congre...\n",
      "8710                                                  NaN\n",
      "8711    Itamaraty recupera status com o Planalto   Em ...\n",
      "8712    No Congresso, até ruralistas são 'verdes'   Al...\n",
      "8713    Indústria também tem lista de demandas Em um e...\n",
      "8714    Ambientalistas criam pontes com oposição para ...\n",
      "8715    Ministros candidatos na eleição de outubro têm...\n",
      "Length: 8716, dtype: object\n"
     ]
    }
   ],
   "source": [
    "print (texto)"
   ]
  },
  {
   "cell_type": "code",
   "execution_count": null,
   "metadata": {
    "collapsed": true
   },
   "outputs": [],
   "source": []
  }
 ],
 "metadata": {
  "kernelspec": {
   "display_name": "Python 3",
   "language": "python",
   "name": "python3"
  },
  "language_info": {
   "codemirror_mode": {
    "name": "ipython",
    "version": 3
   },
   "file_extension": ".py",
   "mimetype": "text/x-python",
   "name": "python",
   "nbconvert_exporter": "python",
   "pygments_lexer": "ipython3",
   "version": "3.6.2"
  }
 },
 "nbformat": 4,
 "nbformat_minor": 2
}
