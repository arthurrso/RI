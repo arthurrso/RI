{
 "cells": [
  {
   "cell_type": "markdown",
   "metadata": {},
   "source": [
    "Reconstruir o índice considerando o conjunto estendido de notícias;\n",
    "Refinar o índice invertido de forma a incluir o IDF (inverse document frequency) de cada termo do dicionário e o TF (term frequency) de cada termo em cada documento da lista de postings respectiva;\n",
    "Instanciar o modelo vetorial com:\n",
    "    representação binária;\n",
    "    TF;\n",
    "    TF-IDF;\n",
    "    BM25* (não usaremos Okapi já que os documentos não tem variação de tamanho).\n",
    "Execute os algoritmos separadamente em consultas específicas (veja abaixo) e retorne os top-5 documentos mais similares à cada consulta;\n",
    "Use a função de MAP que vamos prover junto ao ground truth que construímos para avaliar as diferentes instanciações do modelo vetorial que você construiu;\n",
    "\n",
    " As consultas são as seguintes:\n",
    "\n",
    "    segundo turno;\n",
    "    lava jato;\n",
    "    projeto de lei;\n",
    "    compra de voto.\n",
    "    ministério público.\n",
    "\n",
    "* Faça uma busca pelo k que retorna os melhores resultados. "
   ]
  },
  {
   "cell_type": "code",
   "execution_count": 4,
   "metadata": {},
   "outputs": [],
   "source": [
    "#Imports necessarios\n",
    "import pandas as pd\n",
    "import numpy as np\n",
    "from collections import defaultdict\n",
    "\n",
    "#Recuperando o documento\n",
    "doc = pd.read_csv('estadao_noticias_eleicao.csv')    \n",
    "doc = doc.replace(np.NaN, '')\n",
    "\n",
    "#Definicao das funcoes\n",
    "#Montar dicionario\n",
    "def montaDicionario(coluna):\n",
    "    dicionario = defaultdict(set)\n",
    "    for x in range(0, len(coluna) -1):\n",
    "        splitted = str(coluna[x]).split(' ')\n",
    "        for z in splitted: \n",
    "            dicionario[z.lower()].add(doc.idNoticia[x])\n",
    "    return dicionario\n",
    "\n",
    "#Funcao And\n",
    "def funcaoAnd(termoA, termoB, dicionarioFinal):\n",
    "    termoA = termoA.lower()\n",
    "    termoB = termoB.lower()\n",
    "    valuesA = dicionarioFinal[termoA]\n",
    "    valuesB = dicionarioFinal[termoB]\n",
    "    return list(set(valuesA) & set(valuesB))\n",
    "\n",
    "#Criacao do dicionario com chaves sendo as palavras e valores os ids das noticias\n",
    "texto = doc.titulo + \" \" + doc.conteudo\n",
    "\n",
    "dicionarioPalavras = montaDicionario(texto)"
   ]
  },
  {
   "cell_type": "code",
   "execution_count": 58,
   "metadata": {},
   "outputs": [],
   "source": [
    "#REQ1 - representação binária\n",
    "def constroiRepBinaria(dicionario, termo):\n",
    "    #quebra o termo em uma lista de palavras\n",
    "    splitted = str(termo).split(' ')\n",
    "    retorno = defaultdict(list)\n",
    "    #verifica se cada palavra esta no documento\n",
    "    for x in splitted:\n",
    "        if(dicionario.get(x.lower()) is not None):\n",
    "            #se estiver, adiciona no dicionario temporario o documento e o valor binario 1\n",
    "            retorno[str(dicionario.get(x.lower()))]\n",
    "        else:\n",
    "            #se nao estiver, adiciona no dicionario temporario o documento e o valor binario 0 para facilitar no merge\n",
    "            #retorno[dicionario.get(x.lower())].add('0')\n",
    "            print(dicionario.get(x.lower()))\n",
    "    #itera sobre o dicionario temporario para pegar os documentos com maiores ocorrencias\n",
    "    return retorno\n",
    "#REQ2 - TF\n",
    "def constroiTF(dicionario, termo):\n",
    "    if(dicionario.get(termo.lower()) is not None):\n",
    "        return len(dicionario.get(termo))\n",
    "    \n"
   ]
  },
  {
   "cell_type": "code",
   "execution_count": 59,
   "metadata": {},
   "outputs": [
    {
     "ename": "TypeError",
     "evalue": "'int' object is not iterable",
     "output_type": "error",
     "traceback": [
      "\u001b[1;31m---------------------------------------------------------------------------\u001b[0m",
      "\u001b[1;31mTypeError\u001b[0m                                 Traceback (most recent call last)",
      "\u001b[1;32m<ipython-input-59-5d2c9bc51a88>\u001b[0m in \u001b[0;36m<module>\u001b[1;34m()\u001b[0m\n\u001b[1;32m----> 1\u001b[1;33m \u001b[0mconstroiRepBinaria\u001b[0m\u001b[1;33m(\u001b[0m\u001b[0mdicionarioPalavras\u001b[0m\u001b[1;33m,\u001b[0m \u001b[1;34m\"segundo\"\u001b[0m\u001b[1;33m)\u001b[0m\u001b[1;33m\u001b[0m\u001b[0m\n\u001b[0m",
      "\u001b[1;32m<ipython-input-58-a5218872535f>\u001b[0m in \u001b[0;36mconstroiRepBinaria\u001b[1;34m(dicionario, termo)\u001b[0m\n\u001b[0;32m      8\u001b[0m         \u001b[1;32mif\u001b[0m\u001b[1;33m(\u001b[0m\u001b[0mdicionario\u001b[0m\u001b[1;33m.\u001b[0m\u001b[0mget\u001b[0m\u001b[1;33m(\u001b[0m\u001b[0mx\u001b[0m\u001b[1;33m.\u001b[0m\u001b[0mlower\u001b[0m\u001b[1;33m(\u001b[0m\u001b[1;33m)\u001b[0m\u001b[1;33m)\u001b[0m \u001b[1;32mis\u001b[0m \u001b[1;32mnot\u001b[0m \u001b[0mNone\u001b[0m\u001b[1;33m)\u001b[0m\u001b[1;33m:\u001b[0m\u001b[1;33m\u001b[0m\u001b[0m\n\u001b[0;32m      9\u001b[0m             \u001b[1;31m#se estiver, adiciona no dicionario temporario o documento e o valor binario 1\u001b[0m\u001b[1;33m\u001b[0m\u001b[1;33m\u001b[0m\u001b[0m\n\u001b[1;32m---> 10\u001b[1;33m             \u001b[0mretorno\u001b[0m\u001b[1;33m[\u001b[0m\u001b[0mstr\u001b[0m\u001b[1;33m(\u001b[0m\u001b[0mdicionario\u001b[0m\u001b[1;33m.\u001b[0m\u001b[0mget\u001b[0m\u001b[1;33m(\u001b[0m\u001b[0mx\u001b[0m\u001b[1;33m.\u001b[0m\u001b[0mlower\u001b[0m\u001b[1;33m(\u001b[0m\u001b[1;33m)\u001b[0m\u001b[1;33m)\u001b[0m\u001b[1;33m)\u001b[0m\u001b[1;33m]\u001b[0m \u001b[1;33m+=\u001b[0m \u001b[1;36m1\u001b[0m\u001b[1;33m\u001b[0m\u001b[0m\n\u001b[0m\u001b[0;32m     11\u001b[0m         \u001b[1;32melse\u001b[0m\u001b[1;33m:\u001b[0m\u001b[1;33m\u001b[0m\u001b[0m\n\u001b[0;32m     12\u001b[0m             \u001b[1;31m#se nao estiver, adiciona no dicionario temporario o documento e o valor binario 0 para facilitar no merge\u001b[0m\u001b[1;33m\u001b[0m\u001b[1;33m\u001b[0m\u001b[0m\n",
      "\u001b[1;31mTypeError\u001b[0m: 'int' object is not iterable"
     ]
    }
   ],
   "source": [
    "constroiRepBinaria(dicionarioPalavras, \"segundo\")"
   ]
  },
  {
   "cell_type": "code",
   "execution_count": null,
   "metadata": {
    "collapsed": true
   },
   "outputs": [],
   "source": []
  },
  {
   "cell_type": "markdown",
   "metadata": {},
   "source": [
    "Do melhor ao pior, como se saíram os modelos? Justifique sua resposta."
   ]
  }
 ],
 "metadata": {
  "kernelspec": {
   "display_name": "Python 2",
   "language": "python",
   "name": "python2"
  },
  "language_info": {
   "codemirror_mode": {
    "name": "ipython",
    "version": 2
   },
   "file_extension": ".py",
   "mimetype": "text/x-python",
   "name": "python",
   "nbconvert_exporter": "python",
   "pygments_lexer": "ipython2",
   "version": "2.7.14"
  }
 },
 "nbformat": 4,
 "nbformat_minor": 2
}
