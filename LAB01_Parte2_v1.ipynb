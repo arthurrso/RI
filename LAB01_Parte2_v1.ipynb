{
 "cells": [
  {
   "cell_type": "markdown",
   "metadata": {},
   "source": [
    "Reconstruir o índice considerando o conjunto estendido de notícias;\n",
    "Refinar o índice invertido de forma a incluir o IDF (inverse document frequency) de cada termo do dicionário e o TF (term frequency) de cada termo em cada documento da lista de postings respectiva;\n",
    "Instanciar o modelo vetorial com:\n",
    "    representação binária;\n",
    "    TF;\n",
    "    TF-IDF;\n",
    "    BM25* (não usaremos Okapi já que os documentos não tem variação de tamanho).\n",
    "Execute os algoritmos separadamente em consultas específicas (veja abaixo) e retorne os top-5 documentos mais similares à cada consulta;\n",
    "Use a função de MAP que vamos prover junto ao ground truth que construímos para avaliar as diferentes instanciações do modelo vetorial que você construiu;\n",
    "\n",
    " As consultas são as seguintes:\n",
    "\n",
    "    segundo turno;\n",
    "    lava jato;\n",
    "    projeto de lei;\n",
    "    compra de voto.\n",
    "    ministério público.\n",
    "\n",
    "* Faça uma busca pelo k que retorna os melhores resultados. "
   ]
  },
  {
   "cell_type": "code",
   "execution_count": 12,
   "metadata": {},
   "outputs": [],
   "source": [
    "#Imports necessarios\n",
    "import pandas as pd\n",
    "import numpy as np\n",
    "from collections import defaultdict\n",
    "\n",
    "#Recuperando o documento\n",
    "doc = pd.read_csv('estadao_noticias_eleicao.csv')    \n",
    "doc = doc.replace(np.NaN, '')\n",
    "\n",
    "#Definicao das funcoes\n",
    "#Montar dicionario\n",
    "def montaDicionario(coluna):\n",
    "    dicionario = defaultdict(set)\n",
    "    for x in range(0, len(coluna) -1):\n",
    "        splitted = str(coluna[x]).split(' ')\n",
    "        for z in splitted: \n",
    "            dicionario[z.lower()].add(doc.idNoticia[x])\n",
    "    return dicionario\n",
    "\n",
    "#Funcao And\n",
    "def funcaoAnd(termoA, termoB, dicionarioFinal):\n",
    "    termoA = termoA.lower()\n",
    "    termoB = termoB.lower()\n",
    "    valuesA = dicionarioFinal[termoA]\n",
    "    valuesB = dicionarioFinal[termoB]\n",
    "    retorno = set({})\n",
    "    for x in valuesA:\n",
    "        if(x in valuesB):\n",
    "            retorno.add(x)\n",
    "    return retorno\n",
    "\n",
    "#Criacao do dicionario com chaves sendo as palavras e valores os ids das noticias\n",
    "texto = doc.titulo + \" \" + doc.conteudo\n",
    "dicionarioPalavras = montaDicionario(texto)"
   ]
  },
  {
   "cell_type": "code",
   "execution_count": 13,
   "metadata": {
    "collapsed": true
   },
   "outputs": [],
   "source": [
    "def constroiTF(dicionario, termo):\n",
    "    if(dicionario.get(termo) != null):\n",
    "        return len(dicionario.get(termo))"
   ]
  },
  {
   "cell_type": "code",
   "execution_count": 15,
   "metadata": {},
   "outputs": [
    {
     "ename": "AssertionError",
     "evalue": "",
     "output_type": "error",
     "traceback": [
      "\u001b[0;31m---------------------------------------------------------------------------\u001b[0m",
      "\u001b[0;31mAssertionError\u001b[0m                            Traceback (most recent call last)",
      "\u001b[0;32m<ipython-input-15-5210945d8171>\u001b[0m in \u001b[0;36m<module>\u001b[0;34m()\u001b[0m\n\u001b[0;32m----> 1\u001b[0;31m \u001b[0;32massert\u001b[0m \u001b[0mlen\u001b[0m\u001b[0;34m(\u001b[0m\u001b[0mfuncaoAnd\u001b[0m\u001b[0;34m(\u001b[0m\u001b[0;34m'debate'\u001b[0m\u001b[0;34m,\u001b[0m \u001b[0;34m'presidencial'\u001b[0m\u001b[0;34m,\u001b[0m \u001b[0mdicionarioPalavras\u001b[0m\u001b[0;34m)\u001b[0m\u001b[0;34m)\u001b[0m \u001b[0;34m==\u001b[0m \u001b[0;36m201\u001b[0m\u001b[0;34m\u001b[0m\u001b[0m\n\u001b[0m",
      "\u001b[0;31mAssertionError\u001b[0m: "
     ]
    }
   ],
   "source": []
  },
  {
   "cell_type": "code",
   "execution_count": null,
   "metadata": {},
   "outputs": [],
   "source": []
  },
  {
   "cell_type": "markdown",
   "metadata": {},
   "source": [
    "Do melhor ao pior, como se saíram os modelos? Justifique sua resposta."
   ]
  }
 ],
 "metadata": {
  "kernelspec": {
   "display_name": "Python 3",
   "language": "python",
   "name": "python3"
  },
  "language_info": {
   "codemirror_mode": {
    "name": "ipython",
    "version": 3
   },
   "file_extension": ".py",
   "mimetype": "text/x-python",
   "name": "python",
   "nbconvert_exporter": "python",
   "pygments_lexer": "ipython3",
   "version": "3.6.2"
  }
 },
 "nbformat": 4,
 "nbformat_minor": 2
}
