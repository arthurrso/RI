{
 "cells": [
  {
   "cell_type": "markdown",
   "metadata": {},
   "source": [
    "Reconstruir o índice considerando o conjunto estendido de notícias;\n",
    "Refinar o índice invertido de forma a incluir o IDF (inverse document frequency) de cada termo do dicionário e o TF (term frequency) de cada termo em cada documento da lista de postings respectiva;\n",
    "Instanciar o modelo vetorial com:\n",
    "    representação binária;\n",
    "    TF;\n",
    "    TF-IDF;\n",
    "    BM25* (não usaremos Okapi já que os documentos não tem variação de tamanho).\n",
    "Execute os algoritmos separadamente em consultas específicas (veja abaixo) e retorne os top-5 documentos mais similares à cada consulta;\n",
    "Use a função de MAP que vamos prover junto ao ground truth que construímos para avaliar as diferentes instanciações do modelo vetorial que você construiu;\n",
    "\n",
    " As consultas são as seguintes:\n",
    "\n",
    "    segundo turno;\n",
    "    lava jato;\n",
    "    projeto de lei;\n",
    "    compra de voto.\n",
    "    ministério público.\n",
    "\n",
    "* Faça uma busca pelo k que retorna os melhores resultados. "
   ]
  },
  {
   "cell_type": "code",
   "execution_count": 1,
   "metadata": {
    "collapsed": true
   },
   "outputs": [],
   "source": [
    "#Imports necessarios\n",
    "import pandas as pd\n",
    "import numpy as np\n",
    "from collections import defaultdict\n",
    "\n",
    "#Recuperando o documento\n",
    "doc = pd.read_csv('estadao_noticias_eleicao.csv')    \n",
    "doc = doc.replace(np.NaN, '')\n",
    "\n",
    "#Definicao das funcoes\n",
    "#Montar dicionario\n",
    "def montaDicionario(coluna):\n",
    "    dicionario = defaultdict(set)\n",
    "    for x in range(0, len(coluna) -1):\n",
    "        splitted = str(coluna[x]).split(' ')\n",
    "        for z in splitted: \n",
    "            dicionario[z.lower()].add(doc.idNoticia[x])\n",
    "    return dicionario\n",
    "\n",
    "#Funcao And\n",
    "def funcaoAnd(termoA, termoB, dicionarioFinal):\n",
    "    termoA = termoA.lower()\n",
    "    termoB = termoB.lower()\n",
    "    valuesA = dicionarioFinal[termoA]\n",
    "    valuesB = dicionarioFinal[termoB]\n",
    "    return list(set(valuesA) & set(valuesB))\n",
    "\n",
    "#Criacao do dicionario com chaves sendo as palavras e valores os ids das noticias\n",
    "texto = doc.titulo + \" \" + doc.conteudo\n",
    "dicionarioPalavras = montaDicionario(texto)"
   ]
  },
  {
   "cell_type": "code",
   "execution_count": 7,
   "metadata": {
    "collapsed": true
   },
   "outputs": [],
   "source": [
    "def constroiTF(dicionario, termo):\n",
    "    if(dicionario.get(termo.lower()) is not None):\n",
    "        return len(dicionario.get(termo))"
   ]
  },
  {
   "cell_type": "code",
   "execution_count": 8,
   "metadata": {},
   "outputs": [
    {
     "name": "stdout",
     "output_type": "stream",
     "text": [
      "4053\n"
     ]
    }
   ],
   "source": [
    "print(constroiTF(dicionarioPalavras, \"segundo\"))"
   ]
  },
  {
   "cell_type": "code",
   "execution_count": null,
   "metadata": {
    "collapsed": true
   },
   "outputs": [],
   "source": []
  },
  {
   "cell_type": "markdown",
   "metadata": {},
   "source": [
    "Do melhor ao pior, como se saíram os modelos? Justifique sua resposta."
   ]
  }
 ],
 "metadata": {
  "kernelspec": {
   "display_name": "Python 3",
   "language": "python",
   "name": "python3"
  },
  "language_info": {
   "codemirror_mode": {
    "name": "ipython",
    "version": 3
   },
   "file_extension": ".py",
   "mimetype": "text/x-python",
   "name": "python",
   "nbconvert_exporter": "python",
   "pygments_lexer": "ipython3",
   "version": "3.6.2"
  }
 },
 "nbformat": 4,
 "nbformat_minor": 2
}
