{
 "cells": [
  {
   "cell_type": "markdown",
   "metadata": {},
   "source": [
    "Reconstruir o índice considerando o conjunto estendido de notícias;\n",
    "Refinar o índice invertido de forma a incluir o IDF (inverse document frequency) de cada termo do dicionário e o TF (term frequency) de cada termo em cada documento da lista de postings respectiva;\n",
    "Instanciar o modelo vetorial com:\n",
    "    representação binária;\n",
    "    TF;\n",
    "    TF-IDF;\n",
    "    BM25* (não usaremos Okapi já que os documentos não tem variação de tamanho).\n",
    "Execute os algoritmos separadamente em consultas específicas (veja abaixo) e retorne os top-5 documentos mais similares à cada consulta;\n",
    "Use a função de MAP que vamos prover junto ao ground truth que construímos para avaliar as diferentes instanciações do modelo vetorial que você construiu;\n",
    "\n",
    " As consultas são as seguintes:\n",
    "\n",
    "    segundo turno;\n",
    "    lava jato;\n",
    "    projeto de lei;\n",
    "    compra de voto.\n",
    "    ministério público.\n",
    "\n",
    "* Faça uma busca pelo k que retorna os melhores resultados. "
   ]
  },
  {
   "cell_type": "code",
   "execution_count": 4,
   "metadata": {},
   "outputs": [],
   "source": [
    "#Imports necessarios\n",
    "import pandas as pd\n",
    "import numpy as np\n",
    "from collections import defaultdict\n",
    "\n",
    "#Recuperando o documento\n",
    "doc = pd.read_csv('estadao_noticias_eleicao.csv')    \n",
    "doc = doc.replace(np.NaN, '')\n",
    "\n",
    "#Definicao das funcoes\n",
    "#Montar dicionario\n",
    "def montaDicionario(coluna):\n",
    "    dicionario = defaultdict(set)\n",
    "    for x in range(0, len(coluna) -1):\n",
    "        splitted = str(coluna[x]).split(' ')\n",
    "        for z in splitted: \n",
    "            dicionario[z.lower()].add(doc.idNoticia[x])\n",
    "    return dicionario\n",
    "\n",
    "#Funcao And\n",
    "def funcaoAnd(termoA, termoB, dicionarioFinal):\n",
    "    termoA = termoA.lower()\n",
    "    termoB = termoB.lower()\n",
    "    valuesA = dicionarioFinal[termoA]\n",
    "    valuesB = dicionarioFinal[termoB]\n",
    "    return list(set(valuesA) & set(valuesB))\n",
    "\n",
    "#Criacao do dicionario com chaves sendo as palavras e valores os ids das noticias\n",
    "texto = doc.titulo + \" \" + doc.conteudo\n",
    "\n",
    "dicionarioPalavras = montaDicionario(texto)"
   ]
  },
  {
   "cell_type": "code",
   "execution_count": 135,
   "metadata": {},
   "outputs": [],
   "source": [
    "\n",
    "#REQ1 - representação binária\n",
    "def constroiRepBinaria(dicionario, termo):\n",
    "    #quebra o termo em uma lista de palavras\n",
    "    splitted = str(termo).split(' ')\n",
    "    retorno = defaultdict(list)\n",
    "    #verifica se cada palavra esta no documento\n",
    "    for x in splitted:\n",
    "        if str(x.lower()) in dicionario:\n",
    "            for y in dicionario.get(x.lower()):\n",
    "                retorno[y].append(1)\n",
    "    return retorno\n",
    "\n",
    "#REQ2 - TF\n",
    "def constroiTF(dicionario, termo):\n",
    "    #quebra o termo em uma lista de palavras\n",
    "    splitted = str(termo).split(' ')\n",
    "    retorno = 0\n",
    "    for x in splitted:\n",
    "        #procura no dicionario o termo\n",
    "        if(dicionario.get(x.lower()) is not None):\n",
    "            #encontra a quantidade de vezes que cada uma das palavras aparece\n",
    "            retorno += len(dicionario.get(x))\n",
    "    return retorno\n"
   ]
  },
  {
   "cell_type": "code",
   "execution_count": 117,
   "metadata": {},
   "outputs": [
    {
     "data": {
      "text/plain": [
       "4973"
      ]
     },
     "execution_count": 117,
     "metadata": {},
     "output_type": "execute_result"
    }
   ],
   "source": [
    "constroiTF(dicionarioPalavras, \"segundo turno\")"
   ]
  },
  {
   "cell_type": "code",
   "execution_count": 142,
   "metadata": {},
   "outputs": [],
   "source": [
    "constroiRepBinaria(dicionarioPalavras, \"segundo turno\")"
   ]
  },
  {
   "cell_type": "markdown",
   "metadata": {},
   "source": [
    "Do melhor ao pior, como se saíram os modelos? Justifique sua resposta."
   ]
  },
  {
   "cell_type": "markdown",
   "metadata": {},
   "source": [
    "Dos dois metodos avaliados, ao meu ver, o modelo binário se demonstra menos eficaz por classificar apenas através de valores binários os resultados da busca. O TF, por outro lado, também não é tão eficaz por ser muito abrangente, verificando todas as palavras em todos os documentos. Apesar de não implementado neste lab, o TF-IDF nos meus estudos se mostrou o mais eficaz, por não dar tanta importância para as palavras que não são de grande relevância nas consultas, estabelecendo um resultado mais coerente. "
   ]
  }
 ],
 "metadata": {
  "kernelspec": {
   "display_name": "Python 2",
   "language": "python",
   "name": "python2"
  },
  "language_info": {
   "codemirror_mode": {
    "name": "ipython",
    "version": 2
   },
   "file_extension": ".py",
   "mimetype": "text/x-python",
   "name": "python",
   "nbconvert_exporter": "python",
   "pygments_lexer": "ipython2",
   "version": "2.7.14"
  }
 },
 "nbformat": 4,
 "nbformat_minor": 2
}
