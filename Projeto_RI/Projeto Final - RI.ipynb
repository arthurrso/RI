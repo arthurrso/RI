{
 "cells": [
  {
   "cell_type": "markdown",
   "metadata": {},
   "source": [
    "## Especificação:"
   ]
  },
  {
   "cell_type": "markdown",
   "metadata": {},
   "source": [
    "Nesta atividade você vai construir uma aplicação escolhendo uma das técnicas vistas no último módulo da disciplina. A atividade é individual. As possíveis aplicações são as seguintes:\n",
    "\n",
    "    Classificação de notícias vs sátiras.\n",
    "    Agrupamento de notícias.\n",
    "    Análise de Sentimentos no Twitter.\n",
    "    Sistemas de recomendação (filmes ou notícias).\n",
    "    Detecção de viés em notícias.\n",
    "\n",
    "As explicações do que fazer exatamente em cada uma foram dadas na aula do dia 16/07. \n",
    "\n",
    "O que entregar?\n",
    "\n",
    "    Código documentado, de preferência link no github do notebook jupyter;\n",
    "    Exemplos de funcionamento.\n",
    "\n",
    "Critérios de correção\n",
    "\n",
    "    Como de praxe, corretude e legibilidade.\n",
    "\n",
    "Dicas\n",
    "\n",
    "    Não falte as aulas de acompanhamento.\n",
    "    Não deixe para última hora.\n",
    "    Se faltou a aula do dia 16/07, procure com urgência o professor, monitores ou colegas trabalhando no tema de sua escolha para explicar o que deve ser feito.\n",
    "\n",
    "Entregas com atraso\n",
    "\n",
    "    Será descontado 10 pontos por dia de atraso\n"
   ]
  },
  {
   "cell_type": "markdown",
   "metadata": {},
   "source": [
    "## Técnica escolhida: Agrupamento de notícias."
   ]
  },
  {
   "cell_type": "markdown",
   "metadata": {},
   "source": [
    "Breve descrição:\n",
    "    \n",
    "    No caso de notícias:\n",
    "\n",
    "    Você vai usar os dados de notícias já utilizado em outras atividades;\n",
    "    O algoritmo é basicamente o KNN;\n",
    "    Passe uma notícia como consulta e retorne as top-5 mais similares (em termos de coseno ou produto escalar);\n",
    "    A entrega é a mesma que filmes com exceção do RMSE.\n",
    "\n"
   ]
  },
  {
   "cell_type": "markdown",
   "metadata": {},
   "source": [
    "## Código - Início"
   ]
  },
  {
   "cell_type": "markdown",
   "metadata": {},
   "source": [
    "#### Organização dos imports"
   ]
  },
  {
   "cell_type": "code",
   "execution_count": 1,
   "metadata": {
    "collapsed": true
   },
   "outputs": [],
   "source": [
    "import pandas as pd\n",
    "from sklearn.feature_extraction.text import TfidfVectorizer"
   ]
  },
  {
   "cell_type": "markdown",
   "metadata": {},
   "source": [
    "#### Recuperando documento e seu conteudo"
   ]
  },
  {
   "cell_type": "code",
   "execution_count": 2,
   "metadata": {
    "collapsed": true
   },
   "outputs": [],
   "source": [
    "news = pd.read_csv(\"./estadao_noticias_eleicao.csv\", encoding=\"utf-8\")\n",
    "content = news.titulo + \" \" + news.subTitulo + \" \" + news.conteudo\n",
    "content = content.fillna(\"\")"
   ]
  },
  {
   "cell_type": "markdown",
   "metadata": {},
   "source": [
    "#### Passo 1: Transformando em vetor"
   ]
  },
  {
   "cell_type": "code",
   "execution_count": 3,
   "metadata": {
    "collapsed": true
   },
   "outputs": [],
   "source": [
    "count_vect = TfidfVectorizer()\n",
    "X_train_counts = count_vect.fit_transform(content[:600])"
   ]
  },
  {
   "cell_type": "code",
   "execution_count": 4,
   "metadata": {},
   "outputs": [
    {
     "data": {
      "text/plain": [
       "array([[ 0.,  0.,  0., ...,  0.,  0.,  0.],\n",
       "       [ 0.,  0.,  0., ...,  0.,  0.,  0.],\n",
       "       [ 0.,  0.,  0., ...,  0.,  0.,  0.],\n",
       "       ..., \n",
       "       [ 0.,  0.,  0., ...,  0.,  0.,  0.],\n",
       "       [ 0.,  0.,  0., ...,  0.,  0.,  0.],\n",
       "       [ 0.,  0.,  0., ...,  0.,  0.,  0.]])"
      ]
     },
     "execution_count": 4,
     "metadata": {},
     "output_type": "execute_result"
    }
   ],
   "source": [
    "X_train_counts.toarray()"
   ]
  },
  {
   "cell_type": "code",
   "execution_count": null,
   "metadata": {
    "collapsed": true
   },
   "outputs": [],
   "source": []
  }
 ],
 "metadata": {
  "kernelspec": {
   "display_name": "Python 3",
   "language": "python",
   "name": "python3"
  },
  "language_info": {
   "codemirror_mode": {
    "name": "ipython",
    "version": 3
   },
   "file_extension": ".py",
   "mimetype": "text/x-python",
   "name": "python",
   "nbconvert_exporter": "python",
   "pygments_lexer": "ipython3",
   "version": "3.6.2"
  }
 },
 "nbformat": 4,
 "nbformat_minor": 2
}
