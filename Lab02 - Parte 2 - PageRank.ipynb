{
 "cells": [
  {
   "cell_type": "markdown",
   "metadata": {},
   "source": [
    "## Lab 02 - Parte 2 - Arthur Roberto Saraiva de Oliveira"
   ]
  },
  {
   "cell_type": "markdown",
   "metadata": {},
   "source": [
    "### Implementação do PageRank"
   ]
  },
  {
   "cell_type": "code",
   "execution_count": 87,
   "metadata": {},
   "outputs": [],
   "source": [
    "#imports necessários\n",
    "import numpy as np\n",
    "import pandas as p"
   ]
  },
  {
   "cell_type": "code",
   "execution_count": 88,
   "metadata": {},
   "outputs": [],
   "source": [
    "#constantes auxiliares\n",
    "d_value = 0.15\n",
    "doc = 'soc-sign-bitcoinotc.csv'\n",
    "df = p.read_csv(doc, encoding = 'utf-8')\n",
    "df = df.replace(np.NAN, \"\")\n",
    "\n",
    "#variavel auxiliar\n",
    "count = 0"
   ]
  },
  {
   "cell_type": "markdown",
   "metadata": {},
   "source": [
    "#### Matriz de Transição"
   ]
  },
  {
   "cell_type": "code",
   "execution_count": 89,
   "metadata": {},
   "outputs": [],
   "source": [
    "def generateTransitionMatrix(x, y, node):\n",
    "    lenNode = len(node)\n",
    "    #Return a matrix of given shape and type, filled with zeros\n",
    "    m = np.zeros(shape = (lenNode, lenNode))\n",
    "    \n",
    "    nodeDict = {}\n",
    "    for i in node:\n",
    "        nodeDict[i] = []\n",
    "        \n",
    "    for j in range(len(x)):\n",
    "        source, target = x[j], y[j]\n",
    "        nodeDict[source].append(target)\n",
    "   \n",
    "    for k in range(lenNode):\n",
    "        source = node[k]\n",
    "        for l in range(lenNode):\n",
    "            target = node[l]\n",
    "            if target in nodeDict[source]: \n",
    "                m[l][k] = 1.0/len(nodeDict[source])\n",
    "    \n",
    "    return np.matrix(m)"
   ]
  },
  {
   "cell_type": "markdown",
   "metadata": {},
   "source": [
    "#### Método do PageRank"
   ]
  },
  {
   "cell_type": "code",
   "execution_count": 90,
   "metadata": {},
   "outputs": [],
   "source": [
    "def pagerank(v):\n",
    "    global count\n",
    "    if sum(abs(m*v-v)) > 0.001:\n",
    "        count += 1\n",
    "        return pagerank(m*v)\n",
    "    return m*v"
   ]
  },
  {
   "cell_type": "markdown",
   "metadata": {},
   "source": [
    "#### Gerando as matrizes"
   ]
  },
  {
   "cell_type": "code",
   "execution_count": 91,
   "metadata": {},
   "outputs": [],
   "source": [
    "df.columns = ['source', 'target', 'rating', 'time']\n",
    "df = df[(df.rating >= 8)]\n",
    "\n",
    "source = list(df.source)\n",
    "target = list(df.target)\n",
    "nodes = list(set(source) | set(list(target)))\n",
    "lenNodes = len(nodes)"
   ]
  },
  {
   "cell_type": "code",
   "execution_count": 92,
   "metadata": {},
   "outputs": [],
   "source": [
    "a =  generateTransitionMatrix(source, target, nodes)\n",
    "b = (float(1) / float(lenNodes)) * np.matrix([[1] * lenNodes for i in range(lenNodes)])\n",
    "m = (1-d_value) * a + d_value * b\n",
    "v = (float(1) / float(lenNodes)) * np.matrix([[1] for i in range(lenNodes)])"
   ]
  },
  {
   "cell_type": "markdown",
   "metadata": {},
   "source": [
    "#### Calculo do PageRank"
   ]
  },
  {
   "cell_type": "code",
   "execution_count": 93,
   "metadata": {},
   "outputs": [],
   "source": [
    "result = pagerank(v)\n",
    "result = [cell.item(0,0) for cell in result]"
   ]
  },
  {
   "cell_type": "code",
   "execution_count": 94,
   "metadata": {},
   "outputs": [
    {
     "name": "stdout",
     "output_type": "stream",
     "text": [
      "34\n"
     ]
    }
   ],
   "source": [
    "print (count)\n",
    "count = 0"
   ]
  },
  {
   "cell_type": "markdown",
   "metadata": {},
   "source": [
    "# Respostas"
   ]
  },
  {
   "cell_type": "markdown",
   "metadata": {},
   "source": [
    "## 1- Quantas iterações o PageRank precisou rodar até atingir convergência?"
   ]
  },
  {
   "cell_type": "markdown",
   "metadata": {},
   "source": [
    "Resposta: 34 iterações"
   ]
  },
  {
   "cell_type": "markdown",
   "metadata": {},
   "source": [
    "## 2- Quais os 5 investidores mais importantes segundo o PageRank? Quais seus valores de PageRank?"
   ]
  },
  {
   "cell_type": "markdown",
   "metadata": {},
   "source": [
    "Resposta:"
   ]
  },
  {
   "cell_type": "markdown",
   "metadata": {},
   "source": [
    "### 3- Como você poderia usar o PageRank caso você fosse um investidor em bitcoins?"
   ]
  },
  {
   "cell_type": "markdown",
   "metadata": {},
   "source": [
    "Resposta: Sendo um investidor em bitcoins, um dos casos de uso para o algoritmo do PageRank é utilizá-lo para escolher os melhores investidores"
   ]
  },
  {
   "cell_type": "code",
   "execution_count": null,
   "metadata": {},
   "outputs": [],
   "source": []
  }
 ],
 "metadata": {
  "kernelspec": {
   "display_name": "Python 2",
   "language": "python",
   "name": "python2"
  },
  "language_info": {
   "codemirror_mode": {
    "name": "ipython",
    "version": 2
   },
   "file_extension": ".py",
   "mimetype": "text/x-python",
   "name": "python",
   "nbconvert_exporter": "python",
   "pygments_lexer": "ipython2",
   "version": "2.7.14"
  }
 },
 "nbformat": 4,
 "nbformat_minor": 2
}
