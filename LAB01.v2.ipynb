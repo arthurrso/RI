{
 "cells": [
  {
   "cell_type": "code",
   "execution_count": 178,
   "metadata": {},
   "outputs": [],
   "source": [
    "#Imports necessarios\n",
    "import numpy as np\n",
    "import pandas as pd\n",
    "import nltk\n",
    "from itertools import chain\n",
    "from collections import defaultdict"
   ]
  },
  {
   "cell_type": "code",
   "execution_count": 243,
   "metadata": {},
   "outputs": [],
   "source": [
    "\n",
    "#Recuperando o documento\n",
    "doc = pd.read_csv('noticias_estadao.csv')    \n",
    "\n",
    "\n",
    "\n",
    "#Definicao das funcoes\n",
    "#Montar dicionario\n",
    "def montaDiconario(coluna):\n",
    "    dicionario = {}\n",
    "    for x in range(0, len(coluna) -1):\n",
    "        splitted = coluna[x].split(' ')\n",
    "        for z in splitted:\n",
    "            if z in dicionario.keys():\n",
    "                if doc.idNoticia[x] not in dicionario[z]: \n",
    "                    dicionario[z].append(doc.idNoticia[x])\n",
    "            else:\n",
    "                dicionario[z] = []\n",
    "                dicionario[z].append(doc.idNoticia[x])\n",
    "    return dicionario\n",
    "\n",
    "def criaDicionarioFinal(dic1, dic2):\n",
    "    dicionarioFinal = {}\n",
    "    for k, v in dic1.items():\n",
    "        if dic1[k] not in dicionarioFinal:\n",
    "            dicionarioFinal[k] = []\n",
    "            dicionarioFinal[k].append(v)\n",
    "        else:\n",
    "            dicionarioFinal[k].append(v)\n",
    "    for k, v in dic2.items():\n",
    "        if dic2[k] not in dicionarioFinal:\n",
    "            dicionarioFinal[k] = []\n",
    "            dicionarioFinal[k].append(v)\n",
    "        else:\n",
    "            dicionarioFinal[k].append(v)\n",
    "    return dicionarioFinal\n",
    "\n",
    "#Funcao And\n",
    "def funcaoAnd(termos, dicionarioFinal):\n",
    "    return ''\n",
    "#Funcao or\n",
    "def funcaoOr(termos, dicionarioFinal):\n",
    "    retorno = []\n",
    "    for termo in termos:\n",
    "        for y in dicionarioFinal[termo]:\n",
    "            if y not in retorno:\n",
    "                retorno.append(y)\n",
    "        #if dicionarioFinal[termo] not in retorno:\n",
    "         # retorno.append(dicionarioFinal[termo])\n",
    "    return retorno"
   ]
  },
  {
   "cell_type": "code",
   "execution_count": null,
   "metadata": {},
   "outputs": [],
   "source": [
    "#Chamadas das funcoes\n",
    "titulos = montaDiconario(doc.titulo)\n",
    "conteudos = montaDiconario(doc.conteudo)\n",
    "\n",
    "dicionarioFinal = criaDicionarioFinal(titulos, conteudos)\n",
    "\n",
    "#une os 2 dicionarios\n"
   ]
  },
  {
   "cell_type": "code",
   "execution_count": 245,
   "metadata": {},
   "outputs": [
    {
     "name": "stdout",
     "output_type": "stream",
     "text": [
      "[[6649, 6626, 2181, 5471, 4975, 940, 7373, 2001, 2474, 1995, 4537, 4693, 5468, 1035, 1040, 1261], [7617, 7423, 714, 2970, 2195, 2790, 7618, 7618, 1640, 4604, 2213, 2213, 3990, 2374, 5353, 5354, 5354, 4699, 4699, 4699, 6093, 6093, 1283, 4513, 4525, 1304, 1304, 1304, 7329, 1625, 1625, 5506, 5506, 1131, 852, 5479, 5480, 4932, 4942, 2, 4828, 4828, 4522, 1060, 918, 6429, 2435, 2435, 4207, 4207, 1985, 1985, 1207, 1156, 4268, 4241, 4262, 1788, 4572, 983, 822, 844, 844, 2268, 5126, 5685, 5687, 4353, 4353, 5335, 2219, 2219, 5277, 6240, 5002, 5002, 38, 41, 5203, 1978, 1978, 1992, 1992, 5947, 3429, 6498, 5861, 7634, 6626, 6626, 6626, 6626, 902, 2094, 3968, 4152, 4152, 4152, 4152, 4188, 4188, 4168, 4168, 4168, 4168, 5382, 1930, 1930, 1426, 1426, 4466, 4020, 1839, 1839, 1839, 4626, 2235, 4179, 6524, 3683, 5167, 3962, 2301, 5092, 5092, 6338, 6338, 5963, 639, 1764, 1764, 5860, 5860, 5860, 4770, 4770, 2181, 1305, 1305, 6482, 1272, 6583, 2025, 2025, 857, 1837, 5282, 5233, 5235, 1249, 1249, 1249, 425, 460, 4224, 2569, 2573, 3706, 5276, 5633, 1857, 957, 6694, 6706, 1411, 1411, 5471, 5471, 6394, 235, 4975, 4975, 725, 2063, 7433, 1030, 1030, 1030, 4827, 3747, 6628, 3533, 3533, 6153, 799, 5967, 1242, 1617, 6947, 4814, 4908, 4683, 1319, 5438, 5266, 3892, 1086, 862, 4531, 4531, 4858, 7451, 7453, 1757, 3539, 3539, 3539, 1754, 3915, 2619, 1797, 1484, 1484, 6698, 861, 3552, 3552, 920, 1220, 3549, 3549, 3549, 3549, 2978, 6793, 7058, 2405, 7056, 6257, 6257, 6257, 6257, 6257, 6257, 6257, 6257, 6257, 6257, 6257, 4261, 4261, 4261, 4261, 5049, 3816, 1990, 1990, 5168, 5168, 6245, 4234, 1854, 1878, 940, 940, 940, 940, 940, 940, 2869, 1020, 1370, 2393, 6331, 4140, 180, 7204, 4714, 3104, 4248, 2241, 2239, 2164, 1103, 1103, 5029, 4549, 2303, 6316, 6316, 6316, 1461, 4338, 4344, 4344, 2781, 1987, 443, 7638, 1952, 1952, 1952, 3709, 2565, 7009, 7009, 142, 154, 4609, 1120, 1120, 1120, 1120, 1120, 2005, 7422, 2734, 746, 746, 746, 248, 7203, 1919, 7373, 4606, 7361, 7514, 7356, 6720, 6720, 3507, 2458, 6295, 919, 1886, 1886, 1886, 1886, 1886, 1886, 1765, 1765, 1765, 2001, 2001, 2001, 5098, 1511, 2835, 85, 5388, 1013, 2267, 4802, 4802, 6791, 5522, 6355, 5779, 7406, 7442, 7442, 7434, 4499, 5762, 1991, 863, 76, 208, 4355, 4355, 3569, 3569, 2839, 2839, 2839, 4398, 1229, 1228, 2385, 1259, 1259, 1259, 1259, 4363, 7132, 5127, 2140, 4362, 1254, 1254, 1254, 1256, 1256, 1256, 1256, 7388, 7388, 7388, 593, 1483, 1483, 3265, 5323, 7359, 7359, 2777, 1872, 3149, 3149, 2739, 3087, 3139, 3097, 3098, 2419, 2802, 2763, 3409, 3126, 139, 7069, 2549, 2547, 5879, 3834, 6616, 5902, 2762, 455, 50, 1741, 6298, 1806, 2040, 2040, 2832, 3630, 5119, 7506, 1434, 5109, 4548, 4547, 2779, 2249, 1056, 1056, 793, 793, 1995, 1995, 1995, 1995, 3050, 5188, 5583, 3534, 3534, 4633, 4633, 5132, 7171, 7223, 1787, 6994, 6246, 6825, 705, 3546, 1780, 4916, 2797, 501, 6763, 7155, 900, 5870, 1983, 7394, 7394, 7509, 3899, 658, 1106, 3543, 187, 187, 1245, 5398, 2161, 7398, 7398, 7398, 4742, 4742, 4742, 908, 973, 5468, 1820, 1820, 5084, 3268, 1862, 7198, 6050, 1019, 1019, 95, 1134, 5412, 1971, 2523, 3860, 5800, 3897, 3897, 6274, 6388, 6854, 680, 7061, 4743, 6411, 2248, 2248, 2248, 7269, 218, 972, 972, 1275, 1275, 1035, 4773, 4773, 4773, 954, 3673, 4909, 904, 5748, 5748, 720, 5041, 4510, 4510, 4510, 1153, 6306, 6306, 3933, 3933, 5650, 4951, 4951, 3715, 5042, 7137, 7137, 7363, 3627, 1473, 7630, 3712, 7415, 7415, 7415, 1163, 1163, 1163, 1163, 1163, 1163, 1168, 1168, 1168, 1724, 1724, 4878, 4878, 4879, 4879, 5270, 5270, 5270, 6968, 6968, 6149, 6149, 3538, 883, 1209, 1209, 6001, 5019, 5115, 5115, 5115, 7470, 80, 77, 77, 77, 5261, 1770, 1770, 2593, 2410, 2410, 5117, 4508, 4508, 4508, 4508, 5975, 1068, 3251, 3252, 1968, 1579, 1580, 4514, 6824, 5399, 1028, 1028, 1028, 1057, 1936, 1040, 1040, 2473, 4383, 3128, 7262, 7262, 7327, 7222, 6497, 2582, 2582, 6949, 3964, 4882, 4882, 4882, 2910, 2910, 2910, 2250, 2251, 2071, 2071, 2022, 106, 106, 1883, 4039, 4039, 4039, 4050, 612, 3866, 3866, 1027, 1027, 1027, 4703, 4703, 2143, 2143, 2143, 2143, 2143, 2143, 2143, 2143, 2143, 2143, 377, 377, 570, 5097, 836, 3355, 4666, 4668, 838, 6288, 4209, 2246, 2247, 6767, 6767, 6767, 1300, 660, 5679, 5679, 4409, 4316, 3075, 1855, 1873, 7377, 791, 313, 5121, 5121, 5121, 5121, 5121, 1105, 1105, 1105, 1105, 1105, 6183, 1517, 6008, 982, 982, 982, 4, 4, 4, 4, 4, 4, 4, 4, 6618, 3111, 3111, 1261, 1261, 1261, 1261, 1722]]\n"
     ]
    }
   ],
   "source": [
    "#Evidencia do retorno\n",
    "#print(conteudos['Grande'])\n",
    "print(funcaoOr(['Grande'], dicionarioFinal))\n"
   ]
  },
  {
   "cell_type": "code",
   "execution_count": null,
   "metadata": {},
   "outputs": [],
   "source": [
    "\n"
   ]
  },
  {
   "cell_type": "code",
   "execution_count": 164,
   "metadata": {},
   "outputs": [
    {
     "ename": "SyntaxError",
     "evalue": "invalid syntax (<ipython-input-164-adeeef8a5f83>, line 1)",
     "output_type": "error",
     "traceback": [
      "\u001b[1;36m  File \u001b[1;32m\"<ipython-input-164-adeeef8a5f83>\"\u001b[1;36m, line \u001b[1;32m1\u001b[0m\n\u001b[1;33m    jupyter notebook --NotebookApp.iopub_data_rate_limit=10000000  Showcase.ipynb\u001b[0m\n\u001b[1;37m                   ^\u001b[0m\n\u001b[1;31mSyntaxError\u001b[0m\u001b[1;31m:\u001b[0m invalid syntax\n"
     ]
    }
   ],
   "source": []
  },
  {
   "cell_type": "code",
   "execution_count": null,
   "metadata": {},
   "outputs": [],
   "source": []
  }
 ],
 "metadata": {
  "kernelspec": {
   "display_name": "Python 2",
   "language": "python",
   "name": "python2"
  },
  "language_info": {
   "codemirror_mode": {
    "name": "ipython",
    "version": 2
   },
   "file_extension": ".py",
   "mimetype": "text/x-python",
   "name": "python",
   "nbconvert_exporter": "python",
   "pygments_lexer": "ipython2",
   "version": "2.7.14"
  }
 },
 "nbformat": 4,
 "nbformat_minor": 2
}
